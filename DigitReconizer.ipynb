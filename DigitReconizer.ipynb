{
 "cells": [
  {
   "cell_type": "markdown",
   "metadata": {
    "collapsed": true,
    "pycharm": {
     "name": "#%% md\n"
    }
   },
   "source": [
    "# Kaggle Challenge : Digit Recognizer\n",
    "Used resources :\n",
    "- https://www.kaggle.com/c/digit-recognizer\n",
    "- https://www.youtube.com/watch?v=aZsZrkIgan0\n",
    "- https://www.codingame.com/playgrounds/37409/handwritten-digit-recognition-using-scikit-learn\n",
    "- https://scikit-learn.org/stable/modules/classes.html"
   ]
  },
  {
   "cell_type": "code",
   "execution_count": 1,
   "metadata": {
    "pycharm": {
     "is_executing": false,
     "name": "#%%\n"
    }
   },
   "outputs": [],
   "source": [
    "#Imports\n",
    "import numpy as np\n",
    "import matplotlib.pyplot as plt\n",
    "import pandas as pd\n",
    "import random as random\n",
    "from sklearn.ensemble import RandomForestClassifier\n",
    "from sklearn.metrics import accuracy_score\n",
    "from sklearn.neighbors import KNeighborsClassifier\n",
    "from sklearn.svm import LinearSVC\n",
    "from sklearn.tree import DecisionTreeClassifier"
   ]
  },
  {
   "cell_type": "markdown",
   "source": [
    "### Read, randomize & split data"
   ],
   "metadata": {
    "collapsed": false
   }
  },
  {
   "cell_type": "code",
   "execution_count": 2,
   "metadata": {
    "pycharm": {
     "is_executing": false,
     "name": "#%%\n"
    }
   },
   "outputs": [
    {
     "name": "stderr",
     "text": [
      "c:\\users\\miked\\pycharmprojects\\werkstukai\\venv\\lib\\site-packages\\ipykernel_launcher.py:3: FutureWarning: Method .as_matrix will be removed in a future version. Use .values instead.\n",
      "  This is separate from the ipykernel package so we can avoid doing imports until\n"
     ],
     "output_type": "stream"
    }
   ],
   "source": [
    "#Read the data\n",
    "fullDataSet = pd.read_csv(\"train.csv\")\n",
    "fullDataSetMatrix = fullDataSet.as_matrix()\n",
    "#Randomize the data\n",
    "random.shuffle(fullDataSetMatrix)\n",
    "#Split the data\n",
    "precentTrainData = 10 #Change this value for more or less train data\n",
    "howManyTrain = int((len(fullDataSetMatrix)/100)*precentTrainData)\n",
    "#Make train Data Set\n",
    "trainDataSet = fullDataSetMatrix[0:howManyTrain, 1:]\n",
    "trainlabels = fullDataSetMatrix[0:howManyTrain, 0]\n",
    "#Make test Data Set\n",
    "testDataSet = fullDataSetMatrix[howManyTrain:, 1:]\n",
    "testlabels = fullDataSetMatrix[howManyTrain:, 0]"
   ]
  },
  {
   "cell_type": "markdown",
   "source": [
    "### Train a model with Decision Tree"
   ],
   "metadata": {
    "collapsed": false
   }
  },
  {
   "cell_type": "code",
   "execution_count": 3,
   "outputs": [
    {
     "data": {
      "text/plain": "DecisionTreeClassifier(ccp_alpha=0.0, class_weight=None, criterion='gini',\n                       max_depth=None, max_features=None, max_leaf_nodes=None,\n                       min_impurity_decrease=0.0, min_impurity_split=None,\n                       min_samples_leaf=1, min_samples_split=2,\n                       min_weight_fraction_leaf=0.0, presort='deprecated',\n                       random_state=None, splitter='best')"
     },
     "metadata": {},
     "output_type": "execute_result",
     "execution_count": 3
    }
   ],
   "source": [
    "dtc = DecisionTreeClassifier()\n",
    "dtc.fit(trainDataSet,trainlabels)"
   ],
   "metadata": {
    "collapsed": false,
    "pycharm": {
     "name": "#%%\n",
     "is_executing": false
    }
   }
  },
  {
   "cell_type": "markdown",
   "source": [
    "### Train a model with K Neighbors"
   ],
   "metadata": {
    "collapsed": false
   }
  },
  {
   "cell_type": "code",
   "execution_count": 4,
   "outputs": [
    {
     "data": {
      "text/plain": "KNeighborsClassifier(algorithm='auto', leaf_size=30, metric='minkowski',\n                     metric_params=None, n_jobs=None, n_neighbors=3, p=2,\n                     weights='uniform')"
     },
     "metadata": {},
     "output_type": "execute_result",
     "execution_count": 4
    }
   ],
   "source": [
    "k = 3\n",
    "knc = KNeighborsClassifier(n_neighbors=k)\n",
    "knc.fit(trainDataSet,trainlabels)"
   ],
   "metadata": {
    "collapsed": false,
    "pycharm": {
     "name": "#%%\n",
     "is_executing": false
    }
   }
  },
  {
   "cell_type": "markdown",
   "source": [
    "### Train a model with Random Forest"
   ],
   "metadata": {
    "collapsed": false
   }
  },
  {
   "cell_type": "code",
   "execution_count": 5,
   "outputs": [
    {
     "data": {
      "text/plain": "RandomForestClassifier(bootstrap=True, ccp_alpha=0.0, class_weight=None,\n                       criterion='gini', max_depth=3, max_features='auto',\n                       max_leaf_nodes=None, max_samples=None,\n                       min_impurity_decrease=0.0, min_impurity_split=None,\n                       min_samples_leaf=1, min_samples_split=2,\n                       min_weight_fraction_leaf=0.0, n_estimators=100,\n                       n_jobs=None, oob_score=False, random_state=0, verbose=0,\n                       warm_start=False)"
     },
     "metadata": {},
     "output_type": "execute_result",
     "execution_count": 5
    }
   ],
   "source": [
    "d = 3\n",
    "r = 0\n",
    "rfc = RandomForestClassifier(max_depth=d, random_state=r)\n",
    "rfc.fit(trainDataSet,trainlabels)"
   ],
   "metadata": {
    "collapsed": false,
    "pycharm": {
     "name": "#%%\n",
     "is_executing": false
    }
   }
  },
  {
   "cell_type": "markdown",
   "source": [
    "### Train a model with Support Vector Classification"
   ],
   "metadata": {
    "collapsed": false
   }
  },
  {
   "cell_type": "code",
   "execution_count": 6,
   "outputs": [
    {
     "name": "stderr",
     "text": [
      "c:\\users\\miked\\pycharmprojects\\werkstukai\\venv\\lib\\site-packages\\sklearn\\svm\\_base.py:947: ConvergenceWarning: Liblinear failed to converge, increase the number of iterations.\n",
      "  \"the number of iterations.\", ConvergenceWarning)\n"
     ],
     "output_type": "stream"
    },
    {
     "data": {
      "text/plain": "LinearSVC(C=1.0, class_weight=None, dual=True, fit_intercept=True,\n          intercept_scaling=1, loss='squared_hinge', max_iter=1000,\n          multi_class='ovr', penalty='l2', random_state=None, tol=0.0001,\n          verbose=0)"
     },
     "metadata": {},
     "output_type": "execute_result",
     "execution_count": 6
    }
   ],
   "source": [
    "svc = LinearSVC()\n",
    "svc.fit(trainDataSet,trainlabels)"
   ],
   "metadata": {
    "collapsed": false,
    "pycharm": {
     "name": "#%%\n",
     "is_executing": false
    }
   }
  },
  {
   "cell_type": "markdown",
   "source": [
    "### Test the models & give accuracy with Decision Tree"
   ],
   "metadata": {
    "collapsed": false
   }
  },
  {
   "cell_type": "code",
   "execution_count": 7,
   "outputs": [
    {
     "name": "stdout",
     "text": [
      "Accuracy with Decision Tree:  0.7503439153439153\n"
     ],
     "output_type": "stream"
    }
   ],
   "source": [
    "preDTC = dtc.predict(testDataSet)\n",
    "print(\"Accuracy with Decision Tree: \", accuracy_score(testlabels, preDTC))"
   ],
   "metadata": {
    "collapsed": false,
    "pycharm": {
     "name": "#%%\n",
     "is_executing": false
    }
   }
  },
  {
   "cell_type": "markdown",
   "source": [
    "### Test the models & give accuracy with K Neighbors"
   ],
   "metadata": {
    "collapsed": false
   }
  },
  {
   "cell_type": "code",
   "execution_count": 8,
   "outputs": [
    {
     "name": "stdout",
     "text": [
      "Accuracy with K Neighbors:  0.906058201058201\n"
     ],
     "output_type": "stream"
    }
   ],
   "source": [
    "preKNC = knc.predict(testDataSet)\n",
    "print(\"Accuracy with K Neighbors: \", accuracy_score(testlabels, preKNC))"
   ],
   "metadata": {
    "collapsed": false,
    "pycharm": {
     "name": "#%%\n",
     "is_executing": false
    }
   }
  },
  {
   "cell_type": "markdown",
   "source": [
    "### Test the models & give accuracy with Random Forest"
   ],
   "metadata": {
    "collapsed": false
   }
  },
  {
   "cell_type": "code",
   "execution_count": 9,
   "outputs": [
    {
     "name": "stdout",
     "text": [
      "Accuracy with Random Forest:  0.7196296296296296\n"
     ],
     "output_type": "stream"
    }
   ],
   "source": [
    "preRFC = rfc.predict(testDataSet)\n",
    "print(\"Accuracy with Random Forest: \", accuracy_score(testlabels, preRFC))"
   ],
   "metadata": {
    "collapsed": false,
    "pycharm": {
     "name": "#%%\n",
     "is_executing": false
    }
   }
  },
  {
   "cell_type": "markdown",
   "source": [
    "### Test the models & give accuracy with Support Vector Classification"
   ],
   "metadata": {
    "collapsed": false
   }
  },
  {
   "cell_type": "code",
   "execution_count": 10,
   "outputs": [
    {
     "name": "stdout",
     "text": [
      "Accuracy with Support Vector Classification:  0.838042328042328\n"
     ],
     "output_type": "stream"
    }
   ],
   "source": [
    "preSVC = svc.predict(testDataSet)\n",
    "print(\"Accuracy with Support Vector Classification: \", accuracy_score(testlabels, preSVC))"
   ],
   "metadata": {
    "collapsed": false,
    "pycharm": {
     "name": "#%%\n",
     "is_executing": false
    }
   }
  },
  {
   "cell_type": "markdown",
   "metadata": {
    "pycharm": {
     "is_executing": false,
     "name": "#%% md\n"
    }
   },
   "source": [
    "### Show a random number from data with predictions"
   ]
  },
  {
   "cell_type": "code",
   "execution_count": 11,
   "outputs": [
    {
     "data": {
      "text/plain": "<Figure size 432x288 with 1 Axes>",
      "image/png": "[encoded data removed]"
     },
     "metadata": {
      "needs_background": "light"
     },
     "output_type": "display_data"
    },
    {
     "name": "stdout",
     "text": [
      "Value of image is : 3\n",
      "Predicted value with DecisionTreeClassifier : 5\n",
      "Predicted value with KNeighborsClassifier : 3\n",
      "Predicted value with KNeighborsClassifier : 0\n",
      "Predicted value with LinearSVC : 3\n"
     ],
     "output_type": "stream"
    }
   ],
   "source": [
    "randomNumData = testDataSet[0]\n",
    "randomNumData.shape=(28,28)\n",
    "plt.imshow(randomNumData, cmap='gray')\n",
    "plt.show()\n",
    "print(\"Value of image is : \" + str(testlabels[0]))\n",
    "#print(dtc.predict( [trainDataSet[randomNum]] ))\n",
    "print(\"Predicted value with DecisionTreeClassifier :\" , preDTC[0])\n",
    "print(\"Predicted value with KNeighborsClassifier :\" , preKNC[0])\n",
    "print(\"Predicted value with KNeighborsClassifier :\" , preRFC[0])\n",
    "print(\"Predicted value with LinearSVC :\" , preSVC[0])\n"
   ],
   "metadata": {
    "collapsed": false,
    "pycharm": {
     "name": "#%%\n",
     "is_executing": false
    }
   }
  },
  {
   "cell_type": "markdown",
   "source": [
    "# TestResults\n",
    "\n",
    "## DecisionTree\n",
    "#1: 0.7554232804232804\n",
    "#2: 0.7503439153439153\n",
    "#3: \n",
    "#4: \n",
    "#5: \n",
    "\n",
    "## K Neighbors\n",
    "#1: 0.8987566137566138 (n_neighbors=6)\n",
    "#2: 0.906058201058201 (n_neighbors=3)\n",
    "#3: \n",
    "#4: \n",
    "#5: \n",
    "\n",
    "## Random Forest\n",
    "#1: 0.5647089947089947 (max_depth=2, random_state=0)\n",
    "#2: 0.7196296296296296 (max_depth=3, random_state=0)\n",
    "#3: \n",
    "#4: \n",
    "#5: \n",
    "\n",
    "## Support Vector Classification\n",
    "#1: 0.8391534391534392\n",
    "#2: 0.838042328042328\n",
    "#3: \n",
    "#4: \n",
    "#5: "
   ],
   "metadata": {
    "collapsed": false,
    "pycharm": {
     "name": "#%% md\n"
    }
   }
  }
 ],
 "metadata": {
  "kernelspec": {
   "display_name": "Python 3",
   "language": "python",
   "name": "python3"
  },
  "language_info": {
   "codemirror_mode": {
    "name": "ipython",
    "version": 3
   },
   "file_extension": ".py",
   "mimetype": "text/x-python",
   "name": "python",
   "nbconvert_exporter": "python",
   "pygments_lexer": "ipython3",
   "version": "3.7.5"
  },
  "pycharm": {
   "stem_cell": {
    "cell_type": "raw",
    "source": [],
    "metadata": {
     "collapsed": false
    }
   }
  }
 },
 "nbformat": 4,
 "nbformat_minor": 1
}