{
 "cells": [
  {
   "cell_type": "markdown",
   "metadata": {
    "collapsed": true,
    "pycharm": {
     "name": "#%% md\n"
    }
   },
   "source": [
    "# Kaggle Challenge : Digit Recognizer"
   ]
  },
  {
   "cell_type": "code",
   "execution_count": 23,
   "metadata": {
    "pycharm": {
     "is_executing": false,
     "name": "#%%\n"
    }
   },
   "outputs": [],
   "source": [
    "#Imports\n",
    "import numpy as np\n",
    "import matplotlib.pyplot as plt\n",
    "import pandas as pd\n",
    "import random as random\n",
    "from sklearn.tree import DecisionTreeClassifier"
   ]
  },
  {
   "cell_type": "markdown",
   "source": [
    "### Read, randomize & split data"
   ],
   "metadata": {
    "collapsed": false
   }
  },
  {
   "cell_type": "code",
   "execution_count": 24,
   "metadata": {
    "pycharm": {
     "is_executing": false,
     "name": "#%%\n"
    }
   },
   "outputs": [
    {
     "name": "stderr",
     "text": [
      "c:\\users\\miked\\pycharmprojects\\werkstukai\\venv\\lib\\site-packages\\ipykernel_launcher.py:3: FutureWarning: Method .as_matrix will be removed in a future version. Use .values instead.\n",
      "  This is separate from the ipykernel package so we can avoid doing imports until\n"
     ],
     "output_type": "stream"
    }
   ],
   "source": [
    "#Read the data\n",
    "fullDataSet = pd.read_csv(\"train.csv\")\n",
    "fullDataSetMatrix = fullDataSet.as_matrix()\n",
    "#Randomize the data\n",
    "random.shuffle(fullDataSetMatrix)\n",
    "#Split the data\n",
    "precentTrainData = 10 #Change this value for more or less train data\n",
    "howManyTrain = int((len(fullDataSetMatrix)/100)*precentTrainData)\n",
    "#Make train Data Set\n",
    "trainDataSet = fullDataSetMatrix[0:howManyTrain, 1:]\n",
    "trainlabels = fullDataSetMatrix[0:howManyTrain, 0]\n",
    "#Make test Data Set\n",
    "testDataSet = fullDataSetMatrix[howManyTrain:, 1:]\n",
    "testlabels = fullDataSetMatrix[howManyTrain:, 0]"
   ]
  },
  {
   "cell_type": "markdown",
   "source": [
    "### Train a model with DecisionTree"
   ],
   "metadata": {
    "collapsed": false
   }
  },
  {
   "cell_type": "code",
   "execution_count": 25,
   "outputs": [
    {
     "data": {
      "text/plain": "DecisionTreeClassifier(ccp_alpha=0.0, class_weight=None, criterion='gini',\n                       max_depth=None, max_features=None, max_leaf_nodes=None,\n                       min_impurity_decrease=0.0, min_impurity_split=None,\n                       min_samples_leaf=1, min_samples_split=2,\n                       min_weight_fraction_leaf=0.0, presort='deprecated',\n                       random_state=None, splitter='best')"
     },
     "metadata": {},
     "output_type": "execute_result",
     "execution_count": 25
    }
   ],
   "source": [
    "dtc = DecisionTreeClassifier()\n",
    "dtc.fit(trainDataSet,trainlabels)\n"
   ],
   "metadata": {
    "collapsed": false,
    "pycharm": {
     "name": "#%%\n",
     "is_executing": false
    }
   }
  },
  {
   "cell_type": "markdown",
   "metadata": {
    "pycharm": {
     "is_executing": false,
     "name": "#%% md\n"
    }
   },
   "source": [
    "### Show a random number from data, just for fun "
   ]
  },
  {
   "cell_type": "code",
   "execution_count": 26,
   "outputs": [
    {
     "data": {
      "text/plain": "<Figure size 432x288 with 1 Axes>",
      "image/png": "[encoded data removed]"
     },
     "metadata": {
      "needs_background": "light"
     },
     "output_type": "display_data"
    },
    {
     "name": "stdout",
     "text": [
      "Value of image is : 4\n",
      "Predicted value with DecisionTreeClassifier : [4]\n"
     ],
     "output_type": "stream"
    }
   ],
   "source": [
    "randomNumData = testDataSet[0]\n",
    "randomNumData.shape=(28,28)\n",
    "plt.imshow(randomNumData, cmap='gray')\n",
    "plt.show()\n",
    "print(\"Value of image is : \" + str(testlabels[0]))\n",
    "#print(dtc.predict( [trainDataSet[randomNum]] ))\n",
    "print(\"Predicted value with DecisionTreeClassifier :\" , dtc.predict( [testDataSet[0]] ))"
   ],
   "metadata": {
    "collapsed": false,
    "pycharm": {
     "name": "#%%\n",
     "is_executing": false
    }
   }
  }
 ],
 "metadata": {
  "kernelspec": {
   "display_name": "Python 3",
   "language": "python",
   "name": "python3"
  },
  "language_info": {
   "codemirror_mode": {
    "name": "ipython",
    "version": 3
   },
   "file_extension": ".py",
   "mimetype": "text/x-python",
   "name": "python",
   "nbconvert_exporter": "python",
   "pygments_lexer": "ipython3",
   "version": "3.7.5"
  },
  "pycharm": {
   "stem_cell": {
    "cell_type": "raw",
    "source": [],
    "metadata": {
     "collapsed": false
    }
   }
  }
 },
 "nbformat": 4,
 "nbformat_minor": 1
}